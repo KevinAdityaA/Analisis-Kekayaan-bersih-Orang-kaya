{
  "nbformat": 4,
  "nbformat_minor": 0,
  "metadata": {
    "colab": {
      "provenance": []
    },
    "kernelspec": {
      "name": "python3",
      "display_name": "Python 3"
    },
    "language_info": {
      "name": "python"
    }
  },
  "cells": [
    {
      "cell_type": "markdown",
      "source": [
        "#**Analisis Kekayaan Bersih Orang Kaya**\n",
        "\n",
        "##**Business Uderstanding**\n",
        "\n",
        "###**Business Objetive:**\n",
        "Tujuan bisnis dari studi analisis kekayaan bersih orang kaya adalah untuk memperoleh pemahaman mendalam tentang distribusi kekayaan di antara individu kaya, mengidentifikasi faktor-faktor utama yang memengaruhi kekayaan bersih mereka, serta mengungkapkan tren dan pola dalam akumulasi kekayaan dari waktu ke waktu. Dengan mengumpulkan dan menganalisis data demografis, pendapatan, dan kekayaan bersih, tujuannya adalah untuk memberikan wawasan yang berguna bagi investor, perencana keuangan, dan pembuat kebijakan dalam mengambil keputusan investasi yang lebih baik, merancang rencana keuangan yang efektif, serta memahami ketimpangan ekonomi dan pengaruhnya.\n",
        "\n",
        "###**Assess situation:**\n",
        "Meskipun banyaknya data yang tersedia tentang kekayaan bersih orang kaya, masih terdapat tantangan dalam memahami distribusi kekayaan, mengidentifikasi faktor-faktor kunci yang mempengaruhi kekayaan bersih, dan mengungkapkan tren yang relevan dalam akumulasi kekayaan dari waktu ke waktu. Kurangnya pemahaman yang mendalam tentang dinamika ini dapat menghambat pengambilan keputusan investasi yang efektif, perencanaan keuangan yang akurat, dan pembuatan kebijakan yang berdampak. Oleh karena itu, perlu dilakukan studi analisis yang komprehensif untuk mendapatkan wawasan yang lebih baik tentang kekayaan bersih orang kaya, sehingga dapat memberikan dasar yang kokoh bagi pengambilan keputusan yang lebih baik di berbagai bidang seperti investasi, perencanaan keuangan, dan kebijakan ekonomi.\n",
        "\n",
        "###**Goals:**\n",
        "1. **Memahami Distribusi Kekayaan:**\n",
        " Tujuan utama adalah untuk memahami bagaimana kekayaan bersih terdistribusi di antara orang kaya, termasuk identifikasi proporsi kekayaan yang dimiliki oleh berbagai segmen dalam populasi kaya.\n",
        "   \n",
        "2. **Identifikasi Faktor-Faktor Kunci:**\n",
        "Menganalisis dan mengidentifikasi faktor-faktor utama yang mempengaruhi kekayaan bersih individu, seperti pendidikan, karier, investasi, dan sumber pendapatan lainnya.\n",
        "   \n",
        "3. **Mengungkapkan Tren dan Pola:**\n",
        " Mengidentifikasi dan mengungkapkan tren dan pola dalam akumulasi kekayaan dari waktu ke waktu, termasuk fluktuasi, tren pertumbuhan, dan perubahan signifikan dalam komposisi kekayaan di antara populasi kaya.\n",
        "\n",
        "4. **Memberikan Wawasan yang Berguna:**\n",
        "Menyediakan wawasan yang berguna bagi investor, perencana keuangan, dan pembuat kebijakan untuk mendukung pengambilan keputusan investasi yang lebih baik, perencanaan keuangan yang efektif, serta memahami dampak ketimpangan ekonomi dan faktor-faktor lainnya yang memengaruhi kekayaan bersih.\n",
        "\n",
        "###**Project plan**\n",
        "1. **Pengumpulan Data:**\n",
        "mengumpulkan dan mengidentifikasi data tentang kekayaan bersih dari setiap individu kaya.\n",
        "\n",
        "2. **Analisis Deskriptif:**\n",
        "Lakukan analisis untuk memahami distribusi kekayaan bersih dan identifikasi karakteristik utama data.\n",
        "\n",
        "3. **Analisis Faktor-Faktor Pengaruh:**\n",
        "Mengidentifikasi faktor-faktor utama yang memengaruhi kekayaan bersih melalui analisis.\n",
        "\n",
        "4. **Analisis Tren dan Pola:**\n",
        "Menganalisis dan mengidentifikasi tren dan pola dalam akumulasi kekayaan dari waktu ke waktu setiap orang kaya.\n",
        "\n",
        "5. **Hasil:**\n",
        "Buat laporan yang merangkum hasil analisis dengan visualisasi data yang jelas.\n",
        "\n",
        "6. **Evaluasi dan Revisi:**\n",
        "Evaluasi keberhasilan proyek, identifikasi area untuk perbaikan, dan lakukan revisi jika diperlukan."
      ],
      "metadata": {
        "id": "Iv0z8pHRqPIk"
      }
    }
  ]
}